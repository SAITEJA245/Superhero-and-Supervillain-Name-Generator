{
  "nbformat": 4,
  "nbformat_minor": 0,
  "metadata": {
    "accelerator": "GPU",
    "colab": {
      "name": "Project - Superhero Name Generator.ipynb",
      "provenance": [],
      "collapsed_sections": []
    },
    "kernelspec": {
      "display_name": "Python 3",
      "language": "python",
      "name": "python3"
    },
    "language_info": {
      "codemirror_mode": {
        "name": "ipython",
        "version": 3
      },
      "file_extension": ".py",
      "mimetype": "text/x-python",
      "name": "python",
      "nbconvert_exporter": "python",
      "pygments_lexer": "ipython3",
      "version": "3.8.3"
    }
  },
  "cells": [
    {
      "cell_type": "markdown",
      "metadata": {
        "id": "21XXWP7Fpt2L"
      },
      "source": [
        "# Superhero (and Supervillain) Name Generator\n",
        "\n",
        "---\n",
        "\n",
        "[Superhero Names Dataset](https://github.com/am1tyadav/superhero)"
      ]
    },
    {
      "cell_type": "code",
      "metadata": {
        "id": "eiVJfanXUCZg"
      },
      "source": [
        "# important note to add superheroes.txt before running the below cells"
      ],
      "execution_count": 2,
      "outputs": []
    },
    {
      "cell_type": "markdown",
      "metadata": {
        "id": "H6P0NU5Cpt2R"
      },
      "source": [
        "## Task 2\n",
        "\n",
        "1. Import the data\n",
        "2. Create a tokenizer\n",
        "3. Char to index and Index to char dictionaries"
      ]
    },
    {
      "cell_type": "code",
      "metadata": {
        "colab": {
          "base_uri": "https://localhost:8080/",
          "height": 35
        },
        "id": "uq4CLmsLpt2P",
        "outputId": "68e51cf4-cf5a-46a7-bacf-20b5ccb8a120"
      },
      "source": [
        "with open('superheroes.txt', 'r') as f:  # opening the downloaded txt file, then read the file\n",
        "  data = f.read()   # store the content of the file in data\n",
        "\n",
        "data[:100]    # dispalying the first 100 names that are stored in the data file"
      ],
      "execution_count": 3,
      "outputs": [
        {
          "output_type": "execute_result",
          "data": {
            "application/vnd.google.colaboratory.intrinsic+json": {
              "type": "string"
            },
            "text/plain": [
              "'jumpa\\t\\ndoctor fate\\t\\nstarlight\\t\\nisildur\\t\\nlasher\\t\\nvarvara\\t\\nthe target\\t\\naxel\\t\\nbattra\\t\\nchangeling\\t\\npyrrh'"
            ]
          },
          "metadata": {},
          "execution_count": 3
        }
      ]
    },
    {
      "cell_type": "code",
      "metadata": {
        "colab": {
          "base_uri": "https://localhost:8080/",
          "height": 35
        },
        "id": "JqhtLuAHpt2R",
        "outputId": "045873df-6093-4320-db35-496db9197710"
      },
      "source": [
        "# creating a charecter level language model\n",
        "# we have to create a numeric representation of the charecters to feed the training model this is called tokenizing\n",
        "import tensorflow as tf\n",
        "tf.__version__"
      ],
      "execution_count": 4,
      "outputs": [
        {
          "output_type": "execute_result",
          "data": {
            "application/vnd.google.colaboratory.intrinsic+json": {
              "type": "string"
            },
            "text/plain": [
              "'2.7.0'"
            ]
          },
          "metadata": {},
          "execution_count": 4
        }
      ]
    },
    {
      "cell_type": "code",
      "metadata": {
        "id": "95Lo1Yqzpt2T"
      },
      "source": [
        "# this tokenizer converts charecters to numbers \n",
        "tokenizer = tf.keras.preprocessing.text.Tokenizer(\n",
        "    filters='!\"#$%&()*+,-./:;<=>?@[\\\\]^_`{|}~',\n",
        "    split='\\n',\n",
        ")"
      ],
      "execution_count": 5,
      "outputs": []
    },
    {
      "cell_type": "code",
      "metadata": {
        "id": "qYfC4sj2pt2V"
      },
      "source": [
        "tokenizer.fit_on_texts(data)   # fiting the tokenizer to the txt data"
      ],
      "execution_count": 6,
      "outputs": []
    },
    {
      "cell_type": "code",
      "metadata": {
        "colab": {
          "base_uri": "https://localhost:8080/"
        },
        "id": "EO4-dPM6pt2X",
        "outputId": "ccb08928-9d3a-4846-8f88-7259ed84f326"
      },
      "source": [
        "char_to_index = tokenizer.word_index\n",
        "index_to_char = dict((v, k) for k, v in char_to_index.items())\n",
        "\n",
        "print(index_to_char)   # so when we get char a it assigns number 2"
      ],
      "execution_count": 7,
      "outputs": [
        {
          "output_type": "stream",
          "name": "stdout",
          "text": [
            "{1: '\\t', 2: 'a', 3: 'e', 4: 'r', 5: 'o', 6: 'n', 7: 'i', 8: ' ', 9: 't', 10: 's', 11: 'l', 12: 'm', 13: 'h', 14: 'd', 15: 'c', 16: 'u', 17: 'g', 18: 'k', 19: 'b', 20: 'p', 21: 'y', 22: 'w', 23: 'f', 24: 'v', 25: 'j', 26: 'z', 27: 'x', 28: 'q'}\n"
          ]
        }
      ]
    },
    {
      "cell_type": "markdown",
      "metadata": {
        "id": "SMwtIw_Bpt2Z"
      },
      "source": [
        "## Task 3\n",
        "\n",
        "1. Converting between names and sequences"
      ]
    },
    {
      "cell_type": "code",
      "metadata": {
        "colab": {
          "base_uri": "https://localhost:8080/"
        },
        "id": "N7iQLIXzpt2a",
        "outputId": "5ced3ea4-6e7f-4652-cfb7-2357484fe958"
      },
      "source": [
        "names = data.splitlines()  # spliting data at the new line charecter\n",
        "names[:10]"
      ],
      "execution_count": 8,
      "outputs": [
        {
          "output_type": "execute_result",
          "data": {
            "text/plain": [
              "['jumpa\\t',\n",
              " 'doctor fate\\t',\n",
              " 'starlight\\t',\n",
              " 'isildur\\t',\n",
              " 'lasher\\t',\n",
              " 'varvara\\t',\n",
              " 'the target\\t',\n",
              " 'axel\\t',\n",
              " 'battra\\t',\n",
              " 'changeling\\t']"
            ]
          },
          "metadata": {},
          "execution_count": 8
        }
      ]
    },
    {
      "cell_type": "code",
      "metadata": {
        "colab": {
          "base_uri": "https://localhost:8080/"
        },
        "id": "n_-TTfqipt2c",
        "outputId": "3a252402-9f99-4090-cf27-4e90fe75502e"
      },
      "source": [
        "# converting 3rd(starlight) name to the number\n",
        "tokenizer.texts_to_sequences(names[2])"
      ],
      "execution_count": 9,
      "outputs": [
        {
          "output_type": "execute_result",
          "data": {
            "text/plain": [
              "[[10], [9], [2], [4], [11], [7], [17], [13], [9], [1]]"
            ]
          },
          "metadata": {},
          "execution_count": 9
        }
      ]
    },
    {
      "cell_type": "code",
      "metadata": {
        "id": "P6IsKH1Upt2e"
      },
      "source": [
        "def name_to_seq(name):\n",
        "  return [tokenizer.texts_to_sequences(c)[0][0] for c in name]  # we have to take 1 charecter at a time \n",
        "# we are using [0][0] to squeeze the dimensions we can see that \n",
        "# in previous example in the output list each element is also a list "
      ],
      "execution_count": 10,
      "outputs": []
    },
    {
      "cell_type": "code",
      "metadata": {
        "colab": {
          "base_uri": "https://localhost:8080/"
        },
        "id": "TuLUiMP3pt2g",
        "outputId": "3b603425-2c53-4846-c84e-1bb51489293f"
      },
      "source": [
        "name_to_seq(names[2])"
      ],
      "execution_count": 11,
      "outputs": [
        {
          "output_type": "execute_result",
          "data": {
            "text/plain": [
              "[10, 9, 2, 4, 11, 7, 17, 13, 9, 1]"
            ]
          },
          "metadata": {},
          "execution_count": 11
        }
      ]
    },
    {
      "cell_type": "code",
      "metadata": {
        "id": "yFUYhimKpt2h"
      },
      "source": [
        "def seq_to_name(seq):\n",
        "  return ''.join([index_to_char[i] for i in seq if i!=0])"
      ],
      "execution_count": 12,
      "outputs": []
    },
    {
      "cell_type": "code",
      "metadata": {
        "colab": {
          "base_uri": "https://localhost:8080/",
          "height": 35
        },
        "id": "ROhCqmhLpt2k",
        "outputId": "7cfa3c5a-6759-4836-b245-61b34cd63d0f"
      },
      "source": [
        "seq_to_name([10, 9, 2, 4, 11, 7, 17, 13, 9, 1])"
      ],
      "execution_count": 13,
      "outputs": [
        {
          "output_type": "execute_result",
          "data": {
            "application/vnd.google.colaboratory.intrinsic+json": {
              "type": "string"
            },
            "text/plain": [
              "'starlight\\t'"
            ]
          },
          "metadata": {},
          "execution_count": 13
        }
      ]
    },
    {
      "cell_type": "markdown",
      "metadata": {
        "id": "uCbAzsNjpt2m"
      },
      "source": [
        "## Task 4\n",
        "\n",
        "1. Creating sequences\n",
        "2. Padding all sequences"
      ]
    },
    {
      "cell_type": "code",
      "metadata": {
        "id": "zstNn-0dpt2m"
      },
      "source": [
        "sequences = []\n",
        "for name in names:\n",
        "  seq = name_to_seq(name)\n",
        "  if len(seq) >= 2:\n",
        "    sequences += [seq[:i] for i in range(2, len(seq) + 1)]"
      ],
      "execution_count": 14,
      "outputs": []
    },
    {
      "cell_type": "code",
      "metadata": {
        "colab": {
          "base_uri": "https://localhost:8080/"
        },
        "id": "BjRTMysvpt2o",
        "outputId": "26a4526f-43d2-4565-9a17-83148963dc4e"
      },
      "source": [
        "sequences[:10]"
      ],
      "execution_count": 15,
      "outputs": [
        {
          "output_type": "execute_result",
          "data": {
            "text/plain": [
              "[[25, 16],\n",
              " [25, 16, 12],\n",
              " [25, 16, 12, 20],\n",
              " [25, 16, 12, 20, 2],\n",
              " [25, 16, 12, 20, 2, 1],\n",
              " [14, 5],\n",
              " [14, 5, 15],\n",
              " [14, 5, 15, 9],\n",
              " [14, 5, 15, 9, 5],\n",
              " [14, 5, 15, 9, 5, 4]]"
            ]
          },
          "metadata": {},
          "execution_count": 15
        }
      ]
    },
    {
      "cell_type": "code",
      "metadata": {
        "colab": {
          "base_uri": "https://localhost:8080/"
        },
        "id": "SR68pu2tpt2q",
        "outputId": "a062f7b2-af6a-4657-e19b-7549c1f03aaa"
      },
      "source": [
        "max_len = max([len(x) for x in sequences])\n",
        "print(max_len)"
      ],
      "execution_count": 16,
      "outputs": [
        {
          "output_type": "stream",
          "name": "stdout",
          "text": [
            "33\n"
          ]
        }
      ]
    },
    {
      "cell_type": "code",
      "metadata": {
        "colab": {
          "base_uri": "https://localhost:8080/"
        },
        "id": "h_1BtWO7pt2r",
        "outputId": "8629eba9-90f6-43b9-8a0a-dd68308e4837"
      },
      "source": [
        "padded_sequences = tf.keras.preprocessing.sequence.pad_sequences(sequences, padding='pre', maxlen=max_len)\n",
        "\n",
        "print(padded_sequences[0])"
      ],
      "execution_count": 17,
      "outputs": [
        {
          "output_type": "stream",
          "name": "stdout",
          "text": [
            "[ 0  0  0  0  0  0  0  0  0  0  0  0  0  0  0  0  0  0  0  0  0  0  0  0\n",
            "  0  0  0  0  0  0  0 25 16]\n"
          ]
        }
      ]
    },
    {
      "cell_type": "code",
      "metadata": {
        "colab": {
          "base_uri": "https://localhost:8080/"
        },
        "id": "sPlrLRpSpt2t",
        "outputId": "28e3cdf4-c84a-4a4f-8228-c7fc1c1e79f4"
      },
      "source": [
        "padded_sequences.shape"
      ],
      "execution_count": 18,
      "outputs": [
        {
          "output_type": "execute_result",
          "data": {
            "text/plain": [
              "(88279, 33)"
            ]
          },
          "metadata": {},
          "execution_count": 18
        }
      ]
    },
    {
      "cell_type": "markdown",
      "metadata": {
        "id": "a5TK059jeZBk"
      },
      "source": [
        "## Task 5: Creating Training and Validation Sets\n",
        "\n",
        "1. Creating training and validation sets"
      ]
    },
    {
      "cell_type": "code",
      "metadata": {
        "id": "BE4BIeSnpt2v",
        "colab": {
          "base_uri": "https://localhost:8080/"
        },
        "outputId": "7318dfd4-da33-4365-a0b5-65ff9a6d7863"
      },
      "source": [
        "x,y = padded_sequences[:, :-1], padded_sequences[:, -1]\n",
        "print(x.shape, y.shape)\n",
        "print(x[2],y[2])"
      ],
      "execution_count": 19,
      "outputs": [
        {
          "output_type": "stream",
          "name": "stdout",
          "text": [
            "(88279, 32) (88279,)\n",
            "[ 0  0  0  0  0  0  0  0  0  0  0  0  0  0  0  0  0  0  0  0  0  0  0  0\n",
            "  0  0  0  0  0 25 16 12] 20\n"
          ]
        }
      ]
    },
    {
      "cell_type": "code",
      "metadata": {
        "id": "NpG7t0DneZBk",
        "colab": {
          "base_uri": "https://localhost:8080/"
        },
        "outputId": "2f462f6d-f042-4666-b083-593353ce3428"
      },
      "source": [
        "from sklearn.model_selection import  train_test_split\n",
        "\n",
        "x_train, x_test, y_train, y_test = train_test_split(x,y)\n",
        "\n",
        "print(x_train.shape, y_train.shape)\n",
        "print(x_test.shape, y_test.shape)"
      ],
      "execution_count": 20,
      "outputs": [
        {
          "output_type": "stream",
          "name": "stdout",
          "text": [
            "(66209, 32) (66209,)\n",
            "(22070, 32) (22070,)\n"
          ]
        }
      ]
    },
    {
      "cell_type": "code",
      "metadata": {
        "id": "cgqRZtqnpt2x",
        "colab": {
          "base_uri": "https://localhost:8080/"
        },
        "outputId": "99af7125-36e1-47a9-b939-6b4a9bbfbde0"
      },
      "source": [
        "num_chars = len(char_to_index.keys()) + 1\n",
        "print(num_chars)"
      ],
      "execution_count": 22,
      "outputs": [
        {
          "output_type": "stream",
          "name": "stdout",
          "text": [
            "29\n"
          ]
        }
      ]
    },
    {
      "cell_type": "markdown",
      "metadata": {
        "id": "vbsjf3yYeZBl"
      },
      "source": [
        "## Task 6: Creating the Model"
      ]
    },
    {
      "cell_type": "code",
      "metadata": {
        "id": "_r0BoaEteZBl",
        "colab": {
          "base_uri": "https://localhost:8080/"
        },
        "outputId": "437645e3-e41e-4ddd-c9a6-4d2bde8e2baf"
      },
      "source": [
        "from tensorflow.keras.models import Sequential\n",
        "from tensorflow.keras.layers import Embedding, Conv1D, MaxPool1D, LSTM, Bidirectional, Dense\n",
        "\n",
        "model = Sequential([Embedding(num_chars, 8, input_length=max_len-1),\n",
        "                    Conv1D(64, 5, strides=1, activation='tanh', padding='causal'),\n",
        "                    MaxPool1D(2),\n",
        "                    LSTM(32),\n",
        "                    Dense(num_chars, activation='softmax')]\n",
        "                    )\n",
        "\n",
        "model.compile(\n",
        "    loss='sparse_categorical_crossentropy',\n",
        "    metrics=['accuracy']\n",
        ")\n",
        "model.summary()"
      ],
      "execution_count": 23,
      "outputs": [
        {
          "output_type": "stream",
          "name": "stdout",
          "text": [
            "Model: \"sequential\"\n",
            "_________________________________________________________________\n",
            " Layer (type)                Output Shape              Param #   \n",
            "=================================================================\n",
            " embedding (Embedding)       (None, 32, 8)             232       \n",
            "                                                                 \n",
            " conv1d (Conv1D)             (None, 32, 64)            2624      \n",
            "                                                                 \n",
            " max_pooling1d (MaxPooling1D  (None, 16, 64)           0         \n",
            " )                                                               \n",
            "                                                                 \n",
            " lstm (LSTM)                 (None, 32)                12416     \n",
            "                                                                 \n",
            " dense (Dense)               (None, 29)                957       \n",
            "                                                                 \n",
            "=================================================================\n",
            "Total params: 16,229\n",
            "Trainable params: 16,229\n",
            "Non-trainable params: 0\n",
            "_________________________________________________________________\n"
          ]
        }
      ]
    },
    {
      "cell_type": "markdown",
      "metadata": {
        "id": "xddcfQiweZBl"
      },
      "source": [
        "## Task 7: Training the Model"
      ]
    },
    {
      "cell_type": "code",
      "metadata": {
        "id": "j0Ssl4qupt22",
        "colab": {
          "base_uri": "https://localhost:8080/"
        },
        "outputId": "f623d3f8-3ad2-419f-a8ef-0062ea203f2d"
      },
      "source": [
        "h= model.fit(x_train, y_train, validation_data=(x_test, y_test), epochs=50, verbose=2,\n",
        "             callbacks=[tf.keras.callbacks.EarlyStopping(monitor='val_accuracy', patience=3)])"
      ],
      "execution_count": 24,
      "outputs": [
        {
          "output_type": "stream",
          "name": "stdout",
          "text": [
            "Epoch 1/50\n",
            "2070/2070 - 54s - loss: 2.7775 - accuracy: 0.1822 - val_loss: 2.6291 - val_accuracy: 0.2052 - 54s/epoch - 26ms/step\n",
            "Epoch 2/50\n",
            "2070/2070 - 19s - loss: 2.5733 - accuracy: 0.2269 - val_loss: 2.5378 - val_accuracy: 0.2364 - 19s/epoch - 9ms/step\n",
            "Epoch 3/50\n",
            "2070/2070 - 21s - loss: 2.4910 - accuracy: 0.2512 - val_loss: 2.4731 - val_accuracy: 0.2520 - 21s/epoch - 10ms/step\n",
            "Epoch 4/50\n",
            "2070/2070 - 21s - loss: 2.4350 - accuracy: 0.2662 - val_loss: 2.4295 - val_accuracy: 0.2661 - 21s/epoch - 10ms/step\n",
            "Epoch 5/50\n",
            "2070/2070 - 21s - loss: 2.3939 - accuracy: 0.2780 - val_loss: 2.4020 - val_accuracy: 0.2728 - 21s/epoch - 10ms/step\n",
            "Epoch 6/50\n",
            "2070/2070 - 19s - loss: 2.3602 - accuracy: 0.2885 - val_loss: 2.3733 - val_accuracy: 0.2876 - 19s/epoch - 9ms/step\n",
            "Epoch 7/50\n",
            "2070/2070 - 21s - loss: 2.3320 - accuracy: 0.2979 - val_loss: 2.3507 - val_accuracy: 0.2899 - 21s/epoch - 10ms/step\n",
            "Epoch 8/50\n",
            "2070/2070 - 19s - loss: 2.3050 - accuracy: 0.3035 - val_loss: 2.3404 - val_accuracy: 0.2969 - 19s/epoch - 9ms/step\n",
            "Epoch 9/50\n",
            "2070/2070 - 21s - loss: 2.2818 - accuracy: 0.3112 - val_loss: 2.3171 - val_accuracy: 0.3010 - 21s/epoch - 10ms/step\n",
            "Epoch 10/50\n",
            "2070/2070 - 19s - loss: 2.2608 - accuracy: 0.3159 - val_loss: 2.3071 - val_accuracy: 0.3035 - 19s/epoch - 9ms/step\n",
            "Epoch 11/50\n",
            "2070/2070 - 19s - loss: 2.2424 - accuracy: 0.3222 - val_loss: 2.2928 - val_accuracy: 0.3100 - 19s/epoch - 9ms/step\n",
            "Epoch 12/50\n",
            "2070/2070 - 21s - loss: 2.2249 - accuracy: 0.3284 - val_loss: 2.2823 - val_accuracy: 0.3134 - 21s/epoch - 10ms/step\n",
            "Epoch 13/50\n",
            "2070/2070 - 19s - loss: 2.2095 - accuracy: 0.3321 - val_loss: 2.2798 - val_accuracy: 0.3138 - 19s/epoch - 9ms/step\n",
            "Epoch 14/50\n",
            "2070/2070 - 19s - loss: 2.1956 - accuracy: 0.3389 - val_loss: 2.2658 - val_accuracy: 0.3216 - 19s/epoch - 9ms/step\n",
            "Epoch 15/50\n",
            "2070/2070 - 19s - loss: 2.1826 - accuracy: 0.3420 - val_loss: 2.2630 - val_accuracy: 0.3200 - 19s/epoch - 9ms/step\n",
            "Epoch 16/50\n",
            "2070/2070 - 21s - loss: 2.1714 - accuracy: 0.3454 - val_loss: 2.2566 - val_accuracy: 0.3256 - 21s/epoch - 10ms/step\n",
            "Epoch 17/50\n",
            "2070/2070 - 21s - loss: 2.1588 - accuracy: 0.3508 - val_loss: 2.2540 - val_accuracy: 0.3275 - 21s/epoch - 10ms/step\n",
            "Epoch 18/50\n",
            "2070/2070 - 21s - loss: 2.1473 - accuracy: 0.3536 - val_loss: 2.2479 - val_accuracy: 0.3300 - 21s/epoch - 10ms/step\n",
            "Epoch 19/50\n",
            "2070/2070 - 19s - loss: 2.1377 - accuracy: 0.3571 - val_loss: 2.2504 - val_accuracy: 0.3287 - 19s/epoch - 9ms/step\n",
            "Epoch 20/50\n",
            "2070/2070 - 19s - loss: 2.1269 - accuracy: 0.3609 - val_loss: 2.2491 - val_accuracy: 0.3315 - 19s/epoch - 9ms/step\n",
            "Epoch 21/50\n",
            "2070/2070 - 21s - loss: 2.1184 - accuracy: 0.3653 - val_loss: 2.2443 - val_accuracy: 0.3333 - 21s/epoch - 10ms/step\n",
            "Epoch 22/50\n",
            "2070/2070 - 19s - loss: 2.1099 - accuracy: 0.3684 - val_loss: 2.2399 - val_accuracy: 0.3395 - 19s/epoch - 9ms/step\n",
            "Epoch 23/50\n",
            "2070/2070 - 19s - loss: 2.1023 - accuracy: 0.3708 - val_loss: 2.2394 - val_accuracy: 0.3375 - 19s/epoch - 9ms/step\n",
            "Epoch 24/50\n",
            "2070/2070 - 19s - loss: 2.0933 - accuracy: 0.3750 - val_loss: 2.2341 - val_accuracy: 0.3449 - 19s/epoch - 9ms/step\n",
            "Epoch 25/50\n",
            "2070/2070 - 21s - loss: 2.0866 - accuracy: 0.3768 - val_loss: 2.2472 - val_accuracy: 0.3389 - 21s/epoch - 10ms/step\n",
            "Epoch 26/50\n",
            "2070/2070 - 21s - loss: 2.0802 - accuracy: 0.3783 - val_loss: 2.2342 - val_accuracy: 0.3460 - 21s/epoch - 10ms/step\n",
            "Epoch 27/50\n",
            "2070/2070 - 21s - loss: 2.0734 - accuracy: 0.3815 - val_loss: 2.2340 - val_accuracy: 0.3477 - 21s/epoch - 10ms/step\n",
            "Epoch 28/50\n",
            "2070/2070 - 21s - loss: 2.0665 - accuracy: 0.3843 - val_loss: 2.2392 - val_accuracy: 0.3438 - 21s/epoch - 10ms/step\n",
            "Epoch 29/50\n",
            "2070/2070 - 22s - loss: 2.0621 - accuracy: 0.3845 - val_loss: 2.2396 - val_accuracy: 0.3482 - 22s/epoch - 10ms/step\n",
            "Epoch 30/50\n",
            "2070/2070 - 19s - loss: 2.0556 - accuracy: 0.3855 - val_loss: 2.2323 - val_accuracy: 0.3471 - 19s/epoch - 9ms/step\n",
            "Epoch 31/50\n",
            "2070/2070 - 21s - loss: 2.0508 - accuracy: 0.3883 - val_loss: 2.2292 - val_accuracy: 0.3486 - 21s/epoch - 10ms/step\n",
            "Epoch 32/50\n",
            "2070/2070 - 21s - loss: 2.0459 - accuracy: 0.3898 - val_loss: 2.2407 - val_accuracy: 0.3465 - 21s/epoch - 10ms/step\n",
            "Epoch 33/50\n",
            "2070/2070 - 19s - loss: 2.0414 - accuracy: 0.3923 - val_loss: 2.2458 - val_accuracy: 0.3471 - 19s/epoch - 9ms/step\n",
            "Epoch 34/50\n",
            "2070/2070 - 21s - loss: 2.0370 - accuracy: 0.3938 - val_loss: 2.2310 - val_accuracy: 0.3488 - 21s/epoch - 10ms/step\n",
            "Epoch 35/50\n",
            "2070/2070 - 19s - loss: 2.0325 - accuracy: 0.3930 - val_loss: 2.2314 - val_accuracy: 0.3486 - 19s/epoch - 9ms/step\n",
            "Epoch 36/50\n",
            "2070/2070 - 21s - loss: 2.0297 - accuracy: 0.3946 - val_loss: 2.2356 - val_accuracy: 0.3488 - 21s/epoch - 10ms/step\n",
            "Epoch 37/50\n",
            "2070/2070 - 19s - loss: 2.0249 - accuracy: 0.3967 - val_loss: 2.2396 - val_accuracy: 0.3483 - 19s/epoch - 9ms/step\n"
          ]
        }
      ]
    },
    {
      "cell_type": "code",
      "metadata": {
        "colab": {
          "base_uri": "https://localhost:8080/",
          "height": 265
        },
        "id": "R4z6q8oL2aLb",
        "outputId": "9e1ac3a0-4ec1-42b2-ce97-6273e9bdfac2"
      },
      "source": [
        "from matplotlib import pyplot as plt \n",
        "epochs_ran = len(h.history['loss'])\n",
        "\n",
        "plt.plot(range(0, epochs_ran), h.history['val_accuracy'], label='Validation of training set')\n",
        "plt.plot(range(0, epochs_ran), h.history['accuracy'], label='Validation of test set')\n",
        "plt.legend()\n",
        "plt.show()"
      ],
      "execution_count": 25,
      "outputs": [
        {
          "output_type": "display_data",
          "data": {
            "image/png": "[encoded data removed]",
            "text/plain": [
              "<Figure size 432x288 with 1 Axes>"
            ]
          },
          "metadata": {
            "needs_background": "light"
          }
        }
      ]
    },
    {
      "cell_type": "markdown",
      "metadata": {
        "id": "LuO8si7BeZBl"
      },
      "source": [
        "## Task 8: Generate Names!"
      ]
    },
    {
      "cell_type": "code",
      "metadata": {
        "id": "9f50aTRcpt24"
      },
      "source": [
        "def generated_names(seed):\n",
        "  for i in range(0, 40):\n",
        "    seq = name_to_seq(seed)\n",
        "    padded = tf.keras.preprocessing.sequence.pad_sequences([seq], padding='pre', maxlen=max_len-1, truncating='pre')\n",
        "\n",
        "    pred = model.predict(padded)[0]\n",
        "    pred_char = index_to_char[tf.argmax(pred).numpy()]\n",
        "    seed += pred_char\n",
        "    \n",
        "    if pred_char == '\\t':\n",
        "      break\n",
        "    print(seed)"
      ],
      "execution_count": 26,
      "outputs": []
    },
    {
      "cell_type": "code",
      "metadata": {
        "id": "faQ0FInlpt26",
        "colab": {
          "base_uri": "https://localhost:8080/"
        },
        "outputId": "7a372afd-fd27-456d-ceb0-469fbece6c86"
      },
      "source": [
        "generated_names('e')"
      ],
      "execution_count": 38,
      "outputs": [
        {
          "output_type": "stream",
          "name": "stdout",
          "text": [
            "el\n",
            "ele\n",
            "eles\n",
            "elest\n",
            "elestr\n",
            "elestro\n"
          ]
        }
      ]
    }
  ]
}